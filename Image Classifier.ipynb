{
 "cells": [
  {
   "cell_type": "markdown",
   "id": "b99f2fa5",
   "metadata": {},
   "source": [
    "Data preprocessing "
   ]
  },
  {
   "cell_type": "code",
   "execution_count": 25,
   "id": "65746535",
   "metadata": {},
   "outputs": [
    {
     "name": "stdout",
     "output_type": "stream",
     "text": [
      "['cats', 'Dogs']\n",
      "[0 1]\n",
      "{'cats': np.int64(0), 'Dogs': np.int64(1)}\n"
     ]
    }
   ],
   "source": [
    "import os\n",
    "import numpy as np\n",
    "\n",
    "data_path=\"C:\\\\Users\\\\ASHAN\\\\Desktop\\\\Dataset_01\"\n",
    "catagories=os.listdir(data_path)\n",
    "print(catagories)\n",
    "labels=np.arange(len(catagories))\n",
    "print(labels)\n",
    "label_dict=dict(zip(catagories,labels))\n",
    "print(label_dict)\n"
   ]
  },
  {
   "cell_type": "code",
   "execution_count": 26,
   "id": "a2fb9530",
   "metadata": {},
   "outputs": [],
   "source": [
    "import cv2\n",
    "img_size=50\n",
    "\n",
    "data=[]\n",
    "target=[]\n",
    "\n",
    "\n",
    "for catagory in catagories:\n",
    "    \n",
    "    imgs_path=os.path.join(data_path,catagory)\n",
    "    #print(img_path)\n",
    "    img_names=os.listdir(imgs_path)\n",
    "    \n",
    "    \n",
    "    for img_name in img_names:\n",
    "        img_path=os.path.join(imgs_path,img_name)\n",
    "        #print(img_path)\n",
    "        try:\n",
    "            img=cv2.imread(img_path)\n",
    "            img=cv2.cvtColor(img,cv2.COLOR_BGR2GRAY)\n",
    "            img=cv2.resize(img,(img_size,img_size))\n",
    "            data.append(img)\n",
    "            target.append(label_dict[catagory])\n",
    "        except Exception as e :\n",
    "            print(img_path,e)\n",
    "\n",
    "    "
   ]
  },
  {
   "cell_type": "code",
   "execution_count": null,
   "id": "1793e399",
   "metadata": {},
   "outputs": [],
   "source": []
  },
  {
   "cell_type": "code",
   "execution_count": null,
   "id": "e3eca64c",
   "metadata": {},
   "outputs": [],
   "source": []
  }
 ],
 "metadata": {
  "kernelspec": {
   "display_name": "ML Kernel",
   "language": "python",
   "name": "ml"
  },
  "language_info": {
   "codemirror_mode": {
    "name": "ipython",
    "version": 3
   },
   "file_extension": ".py",
   "mimetype": "text/x-python",
   "name": "python",
   "nbconvert_exporter": "python",
   "pygments_lexer": "ipython3",
   "version": "3.10.3"
  }
 },
 "nbformat": 4,
 "nbformat_minor": 5
}
